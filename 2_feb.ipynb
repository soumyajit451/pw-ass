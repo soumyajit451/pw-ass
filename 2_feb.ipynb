{
  "nbformat": 4,
  "nbformat_minor": 0,
  "metadata": {
    "colab": {
      "provenance": []
    },
    "kernelspec": {
      "name": "python3",
      "display_name": "Python 3"
    },
    "language_info": {
      "name": "python"
    }
  },
  "cells": [
    {
      "cell_type": "markdown",
      "source": [
        "## Q1. Explain with an example each when to use a for loop and a while loop.*italicised text*"
      ],
      "metadata": {
        "id": "F6ateVrp4jPn"
      }
    },
    {
      "cell_type": "markdown",
      "source": [
        "####  A for loop is used when we know the number of iterations beforehand, or we have a sequence (like a list, string, or range) to iterate over."
      ],
      "metadata": {
        "id": "Ywf_q4R95CnU"
      }
    },
    {
      "cell_type": "code",
      "source": [
        "# Print the first 10 natural numbers\n",
        "for i in range(1, 11):\n",
        "    print(i)"
      ],
      "metadata": {
        "colab": {
          "base_uri": "https://localhost:8080/"
        },
        "id": "KRegXDSL4hN7",
        "outputId": "0f22b638-db32-4944-8eb8-49fa044c3c45"
      },
      "execution_count": 1,
      "outputs": [
        {
          "output_type": "stream",
          "name": "stdout",
          "text": [
            "1\n",
            "2\n",
            "3\n",
            "4\n",
            "5\n",
            "6\n",
            "7\n",
            "8\n",
            "9\n",
            "10\n"
          ]
        }
      ]
    },
    {
      "cell_type": "markdown",
      "source": [
        "#### A while loop is used when we don't know the number of iterations beforehand, and the loop continues until a certain condition is met."
      ],
      "metadata": {
        "id": "KMaPAp_e5Uo5"
      }
    },
    {
      "cell_type": "code",
      "source": [
        "# Print numbers until the user enters 0\n",
        "num = 1\n",
        "while num != 0:\n",
        "    num = int(input(\"Enter a number (0 to exit): \"))\n",
        "    print(f\"You entered: {num}\")"
      ],
      "metadata": {
        "colab": {
          "base_uri": "https://localhost:8080/"
        },
        "id": "BgeDsN4A4hQy",
        "outputId": "1932fb60-d4a6-4c39-f5a8-8bc43828dadf"
      },
      "execution_count": 4,
      "outputs": [
        {
          "output_type": "stream",
          "name": "stdout",
          "text": [
            "Enter a number (0 to exit): 1\n",
            "You entered: 1\n",
            "Enter a number (0 to exit): 2\n",
            "You entered: 2\n",
            "Enter a number (0 to exit): 3\n",
            "You entered: 3\n",
            "Enter a number (0 to exit): 4\n",
            "You entered: 4\n",
            "Enter a number (0 to exit): 0\n",
            "You entered: 0\n"
          ]
        }
      ]
    },
    {
      "cell_type": "markdown",
      "source": [
        "## Q2. Write a python program to print the sum and product of the first 10 natural numbers using for and while loop."
      ],
      "metadata": {
        "id": "JdLdv8U16ST2"
      }
    },
    {
      "cell_type": "code",
      "source": [
        "sum = 0\n",
        "product = 1\n",
        "for i in range(1,11):\n",
        "  sum += i\n",
        "  product *= i\n",
        "print(f\"Sum of 10 natural numbers are {sum}\" )\n",
        "print(f\"Product of 10 natural numbers are {product}\" )\n"
      ],
      "metadata": {
        "colab": {
          "base_uri": "https://localhost:8080/"
        },
        "id": "fIOciT0W4hT3",
        "outputId": "0f454289-74b6-4cb7-84aa-24698505ad37"
      },
      "execution_count": 8,
      "outputs": [
        {
          "output_type": "stream",
          "name": "stdout",
          "text": [
            "Sum of 10 natural numbers are 55\n",
            "Product of 10 natural numbers are 3628800\n"
          ]
        }
      ]
    },
    {
      "cell_type": "code",
      "source": [
        "# Sum and product of first 10 natural numbers using while loop\n",
        "sum = 0\n",
        "product = 1\n",
        "i = 1\n",
        "while i <= 10:\n",
        "    sum += i\n",
        "    product *= i\n",
        "    i += 1\n",
        "\n",
        "print(f\"Sum of first 10 natural numbers: {sum}\")\n",
        "print(f\"Product of first 10 natural numbers: {product}\")"
      ],
      "metadata": {
        "colab": {
          "base_uri": "https://localhost:8080/"
        },
        "id": "Vlw-2gg091w_",
        "outputId": "9cde461a-d770-491c-b748-502fa0ff325a"
      },
      "execution_count": 9,
      "outputs": [
        {
          "output_type": "stream",
          "name": "stdout",
          "text": [
            "Sum of first 10 natural numbers: 55\n",
            "Product of first 10 natural numbers: 3628800\n"
          ]
        }
      ]
    },
    {
      "cell_type": "markdown",
      "source": [
        "## Q3. Create a python program to compute the electricity bill for a household.The per-unit charges in rupees are as follows: For the first 100 units, the user will be charged Rs. 4.5 per unit, for the next 100 units, the user will be charged Rs. 6 per unit, and for the next 100 units, the user willbe charged Rs. 10 per unit, After 300 units and above the user will be charged Rs. 20 per unit."
      ],
      "metadata": {
        "id": "RZcvcKhR7waL"
      }
    },
    {
      "cell_type": "code",
      "source": [
        "Total_units = int(input(\"Electricity Consumed in a month: \"))\n",
        "\n",
        "if Total_units <= 100:\n",
        "    Total_bills = Total_units * 4.5\n",
        "elif Total_units <= 200:\n",
        "    Total_bills = 100 * 4.5 + (Total_units - 100) * 6\n",
        "elif Total_units <= 300:\n",
        "    Total_bills = 100 * 4.5 + 100 * 6 + (Total_units - 200) * 10\n",
        "else:\n",
        "    Total_bills = 100 * 4.5 + 100 * 6 + 100 * 10 + (Total_units - 300) * 20\n",
        "\n",
        "print(f\"the total electricity bill should be {Total_bills}\")"
      ],
      "metadata": {
        "colab": {
          "base_uri": "https://localhost:8080/"
        },
        "id": "l6kb-uFG4hWt",
        "outputId": "a6be3db0-c60a-4622-f54c-240a9bddb274"
      },
      "execution_count": 11,
      "outputs": [
        {
          "output_type": "stream",
          "name": "stdout",
          "text": [
            "Electricity Consumed in a month: 290\n",
            "the total electricity bill should be 1950.0\n"
          ]
        }
      ]
    },
    {
      "cell_type": "markdown",
      "source": [
        "## Q4. Create a list of numbers from 1 to 100. Use for loop and while loop to calculate the cube of each number and if the cube of that number is divisible by 4 or 5 then append that number in a list and print that list."
      ],
      "metadata": {
        "id": "FsN5my3e_JGx"
      }
    },
    {
      "cell_type": "code",
      "source": [
        "numbers = list(range(1, 101))\n",
        "result = []\n",
        "\n",
        "for num in numbers:\n",
        "    cube = num ** 3\n",
        "    if cube % 4 == 0 or cube % 5 == 0:\n",
        "        result.append(num)\n",
        "\n",
        "print(f\"Numbers whose cubes are divisible by 4 or 5: {result}\")"
      ],
      "metadata": {
        "colab": {
          "base_uri": "https://localhost:8080/"
        },
        "id": "rDFoX2u74hZZ",
        "outputId": "e6bdd723-5d19-4c8d-b5d5-c75d12886b87"
      },
      "execution_count": 12,
      "outputs": [
        {
          "output_type": "stream",
          "name": "stdout",
          "text": [
            "Numbers whose cubes are divisible by 4 or 5: [2, 4, 5, 6, 8, 10, 12, 14, 15, 16, 18, 20, 22, 24, 25, 26, 28, 30, 32, 34, 35, 36, 38, 40, 42, 44, 45, 46, 48, 50, 52, 54, 55, 56, 58, 60, 62, 64, 65, 66, 68, 70, 72, 74, 75, 76, 78, 80, 82, 84, 85, 86, 88, 90, 92, 94, 95, 96, 98, 100]\n"
          ]
        }
      ]
    },
    {
      "cell_type": "code",
      "source": [
        "numbers = list(range(1, 101))\n",
        "result = []\n",
        "num =1\n",
        "while num<= len(numbers):\n",
        "  cube = num ** 3\n",
        "  if cube % 4 == 0 or cube % 5 == 0:\n",
        "    result.append(num)\n",
        "  num+=1\n",
        "\n",
        "print(f\"Numbers whose cubes are divisible by 4 or 5: {result}\")\n"
      ],
      "metadata": {
        "colab": {
          "base_uri": "https://localhost:8080/"
        },
        "id": "_oEBjU4E4hcP",
        "outputId": "872e9218-f209-46db-c326-163afa4e84ec"
      },
      "execution_count": 15,
      "outputs": [
        {
          "output_type": "stream",
          "name": "stdout",
          "text": [
            "Numbers whose cubes are divisible by 4 or 5: [2, 4, 5, 6, 8, 10, 12, 14, 15, 16, 18, 20, 22, 24, 25, 26, 28, 30, 32, 34, 35, 36, 38, 40, 42, 44, 45, 46, 48, 50, 52, 54, 55, 56, 58, 60, 62, 64, 65, 66, 68, 70, 72, 74, 75, 76, 78, 80, 82, 84, 85, 86, 88, 90, 92, 94, 95, 96, 98, 100]\n"
          ]
        }
      ]
    },
    {
      "cell_type": "markdown",
      "source": [
        "## Q5. Write a program to filter count vowels in the below-given string.  string = \"I want to become a data scientist\""
      ],
      "metadata": {
        "id": "RzZEvBAuB_nc"
      }
    },
    {
      "cell_type": "code",
      "source": [
        "string = \"I want to become a data scientist\"\n",
        "vowels = \"aeiou\"\n",
        "count = 0\n",
        "\n",
        "for char in string:\n",
        "    if char in vowels:\n",
        "        count += 1\n",
        "\n",
        "print(f\"Number of vowels in the string: {count}\")"
      ],
      "metadata": {
        "colab": {
          "base_uri": "https://localhost:8080/"
        },
        "id": "L8fuH5pu4hfC",
        "outputId": "80bcbb98-6aba-418b-d243-f117c4cb4bc6"
      },
      "execution_count": 16,
      "outputs": [
        {
          "output_type": "stream",
          "name": "stdout",
          "text": [
            "Number of vowels in the string: 11\n"
          ]
        }
      ]
    },
    {
      "cell_type": "code",
      "source": [],
      "metadata": {
        "id": "Flp0jS524hhu"
      },
      "execution_count": null,
      "outputs": []
    },
    {
      "cell_type": "code",
      "source": [],
      "metadata": {
        "id": "bTdCIsIG4hlR"
      },
      "execution_count": null,
      "outputs": []
    }
  ]
}