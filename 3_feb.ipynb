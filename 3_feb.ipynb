{
  "nbformat": 4,
  "nbformat_minor": 0,
  "metadata": {
    "colab": {
      "provenance": []
    },
    "kernelspec": {
      "name": "python3",
      "display_name": "Python 3"
    },
    "language_info": {
      "name": "python"
    }
  },
  "cells": [
    {
      "cell_type": "markdown",
      "source": [
        "## Q1. Which keyword is used to create a function? Create a function to return a list of odd numbers in the range of 1 to 25."
      ],
      "metadata": {
        "id": "qc7jEksCqhaG"
      }
    },
    {
      "cell_type": "code",
      "source": [
        "#Answer ::  The def keyword is used to create a function in Python.\n",
        "def odd_numbers():\n",
        "    odd_numbers = []\n",
        "    for num in range(1, 26):\n",
        "        if num % 2 != 0:\n",
        "            odd_numbers.append(num)\n",
        "    return odd_numbers\n",
        "\n",
        "print(odd_numbers())"
      ],
      "metadata": {
        "id": "2oD9WzDnqiVZ",
        "colab": {
          "base_uri": "https://localhost:8080/"
        },
        "outputId": "bb8f1337-5cf4-4abb-e40e-7cb8a66d230d"
      },
      "execution_count": 1,
      "outputs": [
        {
          "output_type": "stream",
          "name": "stdout",
          "text": [
            "[1, 3, 5, 7, 9, 11, 13, 15, 17, 19, 21, 23, 25]\n"
          ]
        }
      ]
    },
    {
      "cell_type": "markdown",
      "source": [
        "## Q2. Why *args and **kwargs is used in some functions? Create a function each for *args and **kwargs to demonstrate their use."
      ],
      "metadata": {
        "id": "oKok9XdaU2Cs"
      }
    },
    {
      "cell_type": "code",
      "source": [
        "# *args (non-keyword arguments) is used to pass a variable number of non-keyword arguments to a function.\n",
        "# It allows the function to accept any number of arguments, and they are packed into a tuple.\n",
        "def args(*args):\n",
        "    for arg in args:\n",
        "        print(arg)\n",
        "\n",
        "args(1, 2, 3)"
      ],
      "metadata": {
        "colab": {
          "base_uri": "https://localhost:8080/"
        },
        "id": "rqISKuuqU8E_",
        "outputId": "f3f523aa-632b-4d39-9445-8e6014b9c593"
      },
      "execution_count": 2,
      "outputs": [
        {
          "output_type": "stream",
          "name": "stdout",
          "text": [
            "1\n",
            "2\n",
            "3\n"
          ]
        }
      ]
    },
    {
      "cell_type": "code",
      "source": [
        "# **kwargs (keyword arguments) is used to pass a variable number of keyword arguments to a function.\n",
        "# It allows the function to accept any number of keyword arguments, and they are packed into a dictionary.\n",
        "def kwargs(**kwargs):\n",
        "    for key, value in kwargs.items():\n",
        "        print(f\"{key}: {value}\")\n",
        "\n",
        "kwargs(name=\"Silu\", age=25, city=\"Rourkela\")\n"
      ],
      "metadata": {
        "colab": {
          "base_uri": "https://localhost:8080/"
        },
        "id": "r_h9hEhbU-ya",
        "outputId": "71552633-913e-4d70-df06-0fb36b63fc01"
      },
      "execution_count": 4,
      "outputs": [
        {
          "output_type": "stream",
          "name": "stdout",
          "text": [
            "name: Silu\n",
            "age: 25\n",
            "city: Rourkela\n"
          ]
        }
      ]
    },
    {
      "cell_type": "markdown",
      "source": [
        "## Q3. What is an iterator in python? Name the method used to initialise the iterator object and the method used for iteration. Use these methods to print the first five elements of the given list [2, 4, 6, 8, 10, 12, 14,16, 18, 20]."
      ],
      "metadata": {
        "id": "dC1dJAmfX4eS"
      }
    },
    {
      "cell_type": "code",
      "source": [
        "# An iterator in Python is an object that allows us to iterate over iterable objects like lists, tuples, dictionaries, and sets.\n",
        "#The iter() method is used to initialize the iterator object, and the next() method is used for iteration."
      ],
      "metadata": {
        "id": "p3qoHlJmU-7C"
      },
      "execution_count": null,
      "outputs": []
    },
    {
      "cell_type": "code",
      "source": [
        "list_m = [2, 4, 6, 8, 10, 12, 14, 16, 18, 20]\n",
        "iter_m = iter(list_m)\n",
        "\n",
        "print(next(iter_m))\n",
        "print(next(iter_m))\n",
        "print(next(iter_m))\n",
        "print(next(iter_m))\n",
        "print(next(iter_m))"
      ],
      "metadata": {
        "colab": {
          "base_uri": "https://localhost:8080/"
        },
        "id": "sR_NmvmNU_C2",
        "outputId": "3be9db3e-74e1-4ecf-97f9-bc2b15e05a61"
      },
      "execution_count": 6,
      "outputs": [
        {
          "output_type": "stream",
          "name": "stdout",
          "text": [
            "2\n",
            "4\n",
            "6\n",
            "8\n",
            "10\n"
          ]
        }
      ]
    },
    {
      "cell_type": "markdown",
      "source": [
        "## Q4. What is a generator function in python? Why yield keyword is used? Give an example of a generator function."
      ],
      "metadata": {
        "id": "tjiHw9TyZ0MX"
      }
    },
    {
      "cell_type": "code",
      "source": [
        "# Generator function is used in python for iteration purpose.\n",
        "# yield keyword Used instead of return to produce a generator iterator."
      ],
      "metadata": {
        "id": "XnRarSy_ZdiL"
      },
      "execution_count": null,
      "outputs": []
    },
    {
      "cell_type": "code",
      "source": [
        "def count_upto(n):\n",
        "    i = 0\n",
        "    while i < n:\n",
        "        yield i\n",
        "        i += 1\n",
        "\n",
        "counter = count_upto(10)\n",
        "print(next(counter))\n",
        "print(next(counter))\n",
        "print(next(counter))\n",
        "print(next(counter))\n",
        "print(next(counter))"
      ],
      "metadata": {
        "colab": {
          "base_uri": "https://localhost:8080/"
        },
        "id": "RR02dISWcq71",
        "outputId": "63d2943d-53b8-4276-aa2f-1cc4d1286fc2"
      },
      "execution_count": 7,
      "outputs": [
        {
          "output_type": "stream",
          "name": "stdout",
          "text": [
            "0\n",
            "1\n",
            "2\n",
            "3\n",
            "4\n"
          ]
        }
      ]
    },
    {
      "cell_type": "markdown",
      "source": [
        "## Q5. Create a generator function for prime numbers less than 1000. Use the next() method to print the first 20 prime numbers."
      ],
      "metadata": {
        "id": "PyDJiybvdapE"
      }
    },
    {
      "cell_type": "code",
      "source": [
        "def prime_numbers():\n",
        "    primes = []\n",
        "    num = 2\n",
        "    while num < 1000:\n",
        "        is_prime = True\n",
        "        for prime in primes:\n",
        "            if num % prime == 0:\n",
        "                is_prime = False\n",
        "                break\n",
        "        if is_prime:\n",
        "            primes.append(num)\n",
        "            yield num\n",
        "        num += 1\n",
        "\n",
        "prime_nums = prime_numbers()\n",
        "\n",
        "for _ in range(20):\n",
        "    print(next(prime_nums), end=\" \")"
      ],
      "metadata": {
        "colab": {
          "base_uri": "https://localhost:8080/"
        },
        "id": "xGNWhgyjcrBR",
        "outputId": "f9dfbd46-d286-4695-96d2-589f6ce2522e"
      },
      "execution_count": 8,
      "outputs": [
        {
          "output_type": "stream",
          "name": "stdout",
          "text": [
            "2 3 5 7 11 13 17 19 23 29 31 37 41 43 47 53 59 61 67 71 "
          ]
        }
      ]
    },
    {
      "cell_type": "markdown",
      "source": [
        "## Q6. Write a python program to print the first 10 Fibonacci numbers using a while loop."
      ],
      "metadata": {
        "id": "ahquWuZVhRJt"
      }
    },
    {
      "cell_type": "code",
      "source": [
        "a, b = 0, 1\n",
        "count = 0\n",
        "while count < 10:\n",
        "    print(a, end=\" \")\n",
        "    a, b = b, a + b\n",
        "    count += 1\n",
        "\n"
      ],
      "metadata": {
        "colab": {
          "base_uri": "https://localhost:8080/"
        },
        "id": "OPm93ZHJcrEH",
        "outputId": "8c9fb10b-8789-4334-dcc6-f79818991068"
      },
      "execution_count": 9,
      "outputs": [
        {
          "output_type": "stream",
          "name": "stdout",
          "text": [
            "0 1 1 2 3 5 8 13 21 34 "
          ]
        }
      ]
    },
    {
      "cell_type": "markdown",
      "source": [
        "## Q7. Write a List Comprehension to iterate through the given string: ‘pwskills’. Expected output: ['p', 'w', 's', 'k', 'i', 'l', 'l', 's']"
      ],
      "metadata": {
        "id": "KedBwB63kMrQ"
      }
    },
    {
      "cell_type": "code",
      "source": [
        "string = 'pwskills'\n",
        "result = [char for char in string]\n",
        "print(result)"
      ],
      "metadata": {
        "colab": {
          "base_uri": "https://localhost:8080/"
        },
        "id": "s2zfTw2ocrGw",
        "outputId": "750e087c-bbc0-40b1-a931-cc62de0b450e"
      },
      "execution_count": 10,
      "outputs": [
        {
          "output_type": "stream",
          "name": "stdout",
          "text": [
            "['p', 'w', 's', 'k', 'i', 'l', 'l', 's']\n"
          ]
        }
      ]
    },
    {
      "cell_type": "markdown",
      "source": [
        "## Q8. Write a python program to check whether a given number is Palindrome or not using a while loop."
      ],
      "metadata": {
        "id": "n9FQ7fudkcZe"
      }
    },
    {
      "cell_type": "code",
      "source": [
        "def is_palindrome(num):\n",
        "    temp = num\n",
        "    reverse = 0\n",
        "    while temp > 0:\n",
        "        digit = temp % 10\n",
        "        reverse = reverse * 10 + digit\n",
        "        temp //= 10\n",
        "    return num == reverse\n",
        "\n",
        "number = int(input(\"Enter a number: \"))\n",
        "if is_palindrome(number):\n",
        "    print(f\"{number} is a palindrome\")\n",
        "else:\n",
        "    print(f\"{number} is not a palindrome\")"
      ],
      "metadata": {
        "colab": {
          "base_uri": "https://localhost:8080/"
        },
        "id": "UrOENW0vcrJT",
        "outputId": "8f8f38fe-7a24-44a2-8c1c-12d2a7493acf"
      },
      "execution_count": 11,
      "outputs": [
        {
          "output_type": "stream",
          "name": "stdout",
          "text": [
            "Enter a number: 1234567890987654321\n",
            "1234567890987654321 is a palindrome\n"
          ]
        }
      ]
    },
    {
      "cell_type": "markdown",
      "source": [
        "## Q9. Write a code to print odd numbers from 1 to 100 using list comprehension."
      ],
      "metadata": {
        "id": "rl-9zbZkkvPb"
      }
    },
    {
      "cell_type": "code",
      "source": [
        "our_numbers = [num for num in range(1,101)]\n",
        "odd_numbers = [num for num in our_numbers if num % 2 != 0]\n",
        "print(odd_numbers)"
      ],
      "metadata": {
        "colab": {
          "base_uri": "https://localhost:8080/"
        },
        "id": "H7BgiMI9crMw",
        "outputId": "28c0ca85-55a6-4a45-945d-25a04c494890"
      },
      "execution_count": 14,
      "outputs": [
        {
          "output_type": "stream",
          "name": "stdout",
          "text": [
            "[1, 3, 5, 7, 9, 11, 13, 15, 17, 19, 21, 23, 25, 27, 29, 31, 33, 35, 37, 39, 41, 43, 45, 47, 49, 51, 53, 55, 57, 59, 61, 63, 65, 67, 69, 71, 73, 75, 77, 79, 81, 83, 85, 87, 89, 91, 93, 95, 97, 99]\n"
          ]
        }
      ]
    },
    {
      "cell_type": "code",
      "source": [],
      "metadata": {
        "id": "wFDWjhJvlIuM"
      },
      "execution_count": null,
      "outputs": []
    }
  ]
}