{
  "nbformat": 4,
  "nbformat_minor": 0,
  "metadata": {
    "colab": {
      "provenance": []
    },
    "kernelspec": {
      "name": "python3",
      "display_name": "Python 3"
    },
    "language_info": {
      "name": "python"
    }
  },
  "cells": [
    {
      "cell_type": "markdown",
      "source": [
        "# Q1. Explain Class and Object with respect to Object-Oriented Programming. Give a suitable example.*italicised text*"
      ],
      "metadata": {
        "id": "O2Ioy2zU3cuG"
      }
    },
    {
      "cell_type": "markdown",
      "source": [
        "###  A class is a  template that defines the properties (attributes) and behaviors (methods) of a particular type of object.\n",
        "\n",
        "\n",
        "\n",
        "###  An object is an instance of a class, created at runtime. It represents a specific entity with its own unique set of attributes and can perform actions defined by the methods in its class.\n"
      ],
      "metadata": {
        "id": "iVNl6aj4_qCs"
      }
    },
    {
      "cell_type": "code",
      "source": [
        "class calculation:\n",
        "  def __init__(self, X ,Y):\n",
        "        self.X =  X\n",
        "        self.Y = Y\n",
        "  def add(self):\n",
        "    print(f'x + y ={self.X+self.Y}')\n",
        "  def sub(self):\n",
        "    print(f'x - y ={self.X-self.Y}')\n",
        "  def mul(self):\n",
        "    print(f'x * y = {self.X*self.Y}')\n",
        "  def div(self):\n",
        "    print(f'x / y = {self.X/self.Y}')\n",
        "# my_calculation is the instance object of calculation class which has the power of uses its methods and attributes.\n",
        "my_calculation = calculation(10,11)\n",
        "\n",
        "# calculation class methods.\n",
        "my_calculation.add()\n",
        "my_calculation.sub()\n",
        "my_calculation.mul()\n",
        "my_calculation.div()\n",
        "\n",
        "\n"
      ],
      "metadata": {
        "colab": {
          "base_uri": "https://localhost:8080/"
        },
        "id": "b82HRKyy5X_G",
        "outputId": "a8a5869f-8264-4bdc-8633-38938b4c2305"
      },
      "execution_count": 4,
      "outputs": [
        {
          "output_type": "stream",
          "name": "stdout",
          "text": [
            "x + y =21\n",
            "x - y =-1\n",
            "x * y = 110\n",
            "x / y = 0.9090909090909091\n"
          ]
        }
      ]
    },
    {
      "cell_type": "markdown",
      "source": [
        "# Q2. Name the four pillars of OOPs."
      ],
      "metadata": {
        "id": "aHJjxRmI8HKh"
      }
    },
    {
      "cell_type": "code",
      "source": [
        "# Encapsulation\n",
        "# Inheritance\n",
        "# Polymorphism\n",
        "# Abstraction"
      ],
      "metadata": {
        "id": "i43hypNa5YYr"
      },
      "execution_count": null,
      "outputs": []
    },
    {
      "cell_type": "markdown",
      "source": [
        "# Q3. Explain why the __init__() function is used. Give a suitable example."
      ],
      "metadata": {
        "id": "OoTfOK_e83xv"
      }
    },
    {
      "cell_type": "markdown",
      "source": [
        "### The __init__() function is a special method in Python classes, known as the constructor.\n",
        "### It is automatically called when an object is created from a class.\n",
        "### The purpose of the __init__() function is to initialize the attributes of an object with the provided values when it is created."
      ],
      "metadata": {
        "id": "fAF32aMV_eo4"
      }
    },
    {
      "cell_type": "code",
      "source": [
        "class calculation:\n",
        "  def __init__(self, X ,Y):\n",
        "        self.X =  X\n",
        "        self.Y = Y\n",
        "  def add(self):\n",
        "    print(f'x + y ={self.X+self.Y}')\n",
        "  def sub(self):\n",
        "    print(f'x - y ={self.X-self.Y}')\n",
        "  def mul(self):\n",
        "    print(f'x * y = {self.X*self.Y}')\n",
        "  def div(self):\n",
        "    print(f'x / y = {self.X/self.Y}')\n",
        "# my_calculation is the instance object of calculation class which has the power of uses its methods and attributes.\n",
        "my_calculation = calculation(10,11)\n",
        "\n",
        "print(my_calculation.X)  # output = 10\n",
        "print(my_calculation.Y)  # output = 11"
      ],
      "metadata": {
        "colab": {
          "base_uri": "https://localhost:8080/"
        },
        "id": "i3pYnRMp5YfJ",
        "outputId": "fb48553f-6363-452c-c58e-4b3a5747b0dc"
      },
      "execution_count": 6,
      "outputs": [
        {
          "output_type": "stream",
          "name": "stdout",
          "text": [
            "10\n",
            "11\n"
          ]
        }
      ]
    },
    {
      "cell_type": "markdown",
      "source": [
        "# Q4. Why self is used in OOPs?"
      ],
      "metadata": {
        "id": "fXJ7oG1m8vzm"
      }
    },
    {
      "cell_type": "markdown",
      "source": [
        "###  In Python, self is a reference to the instance of a class.\n",
        "### It is used as the first parameter in class methods, including the __init__() function.\n",
        "### By convention, self is used to access the attributes and methods  within the class.\n",
        "### When a method is called on an object, the object itself is automatically passed as the first argument to the method, which is then referred to as self."
      ],
      "metadata": {
        "id": "QJpMcrxJ_Qn4"
      }
    },
    {
      "cell_type": "markdown",
      "source": [
        "# Q5. What is inheritance? Give an example for each type of inheritance."
      ],
      "metadata": {
        "id": "J2NF7o_Q-r8g"
      }
    },
    {
      "cell_type": "markdown",
      "source": [
        "## Inheritance is a mechanism in OOPs that allows a class to inherit properties and methods from another class. The class that inherits is called the derived class or subclass, and the class being inherited from is called the base class or superclass."
      ],
      "metadata": {
        "id": "8YYOjH7eAPOd"
      }
    },
    {
      "cell_type": "code",
      "source": [
        "#    1. Single Inheritance: A subclass inherits from a single superclass. Example: Class Dog inherits from class Animal.\n",
        "class Animal:\n",
        "    def __init__(self, name):\n",
        "        self.name = name\n",
        "\n",
        "    def speak(self):\n",
        "      return \"wowowo\"\n",
        "\n",
        "\n",
        "class Dog(Animal):\n",
        "    def speak(self):\n",
        "        return \"Woof!\"\n",
        "\n",
        "dog = Dog(\"Buddy\")\n",
        "print(dog.name)  # Output: Buddy\n",
        "print(dog.speak())  # Output: Woof!"
      ],
      "metadata": {
        "colab": {
          "base_uri": "https://localhost:8080/"
        },
        "id": "LRuLtSPrARfW",
        "outputId": "1fe8c7a1-6a25-441d-a3eb-578d079f0473"
      },
      "execution_count": 7,
      "outputs": [
        {
          "output_type": "stream",
          "name": "stdout",
          "text": [
            "Buddy\n",
            "Woof!\n"
          ]
        }
      ]
    },
    {
      "cell_type": "code",
      "source": [
        "#    2. Multiple Inheritance: A subclass inherits from multiple superclasses. Example: Class Child inherits from classes Mother and Father.\n",
        "class Mother:\n",
        "    def __init__(self, mother_name):\n",
        "        self.mother_name = mother_name\n",
        "\n",
        "class Father:\n",
        "    def __init__(self, father_name):\n",
        "        self.father_name = father_name\n",
        "\n",
        "class Child(Mother, Father):\n",
        "    def __init__(self, name, mother_name, father_name):\n",
        "        Mother.__init__(self, mother_name)\n",
        "        Father.__init__(self, father_name)\n",
        "        self.name = name\n",
        "\n",
        "    def get_parents(self):\n",
        "        return f\"Mother: {self.mother_name}, Father: {self.father_name}\"\n",
        "\n",
        "child = Child(\"John\", \"Jane\", \"Mark\")\n",
        "print(child.name)  # Output: John\n",
        "print(child.get_parents())  # Output: Mother: Jane, Father: Mark"
      ],
      "metadata": {
        "colab": {
          "base_uri": "https://localhost:8080/"
        },
        "id": "buaUyysGAkry",
        "outputId": "b694dbd5-214c-4e1b-dcc2-49f6c8d4c532"
      },
      "execution_count": 8,
      "outputs": [
        {
          "output_type": "stream",
          "name": "stdout",
          "text": [
            "John\n",
            "Mother: Jane, Father: Mark\n"
          ]
        }
      ]
    },
    {
      "cell_type": "code",
      "source": [
        "# 3. Multilevel Inheritance: A subclass inherits from a superclass, which itself inherits from another superclass.\n",
        "#  Example: Class GrandChild inherits from class Child, which inherits from class Parent.\n",
        "class Grandparent:\n",
        "    def __init__(self, grandparent_name):\n",
        "        self.grandparent_name = grandparent_name\n",
        "\n",
        "class Parent(Grandparent):\n",
        "    def __init__(self, parent_name, grandparent_name):\n",
        "        super().__init__(grandparent_name)\n",
        "        self.parent_name = parent_name\n",
        "\n",
        "class Child(Parent):\n",
        "    def __init__(self, name, parent_name, grandparent_name):\n",
        "        super().__init__(parent_name, grandparent_name)\n",
        "        self.name = name\n",
        "\n",
        "    def get_family(self):\n",
        "        return f\"Grandparent: {self.grandparent_name}, Parent: {self.parent_name}, Child: {self.name}\"\n",
        "\n",
        "child = Child(\"John\", \"Michael\", \"David\")\n",
        "print(child.get_family())  # Output: Grandparent: David, Parent: Michael, Child: John"
      ],
      "metadata": {
        "colab": {
          "base_uri": "https://localhost:8080/"
        },
        "id": "uflcmCAPAkzd",
        "outputId": "1b872db0-7eb3-4ca3-a451-8e71118a01a7"
      },
      "execution_count": 9,
      "outputs": [
        {
          "output_type": "stream",
          "name": "stdout",
          "text": [
            "Grandparent: David, Parent: Michael, Child: John\n"
          ]
        }
      ]
    },
    {
      "cell_type": "code",
      "source": [
        "# Hierarchical Inheritance:\n",
        "class Animal:\n",
        "    def __init__(self, name):\n",
        "        self.name = name\n",
        "\n",
        "    def speak(self):\n",
        "        pass\n",
        "\n",
        "class Dog(Animal):\n",
        "    def speak(self):\n",
        "        return \"Woof!\"\n",
        "\n",
        "class Cat(Animal):\n",
        "    def speak(self):\n",
        "        return \"Meow!\"\n",
        "\n",
        "dog = Dog(\"Buddy\")\n",
        "cat = Cat(\"Whiskers\")\n",
        "\n",
        "print(dog.name)  # Output: Buddy\n",
        "print(dog.speak())  # Output: Woof!\n",
        "\n",
        "print(cat.name)  # Output: Whiskers\n",
        "print(cat.speak())  # Output: Meow!"
      ],
      "metadata": {
        "colab": {
          "base_uri": "https://localhost:8080/"
        },
        "id": "aAxrhuinAk9t",
        "outputId": "8fd917ca-0975-4c03-8e47-0ec25ebde484"
      },
      "execution_count": 10,
      "outputs": [
        {
          "output_type": "stream",
          "name": "stdout",
          "text": [
            "Buddy\n",
            "Woof!\n",
            "Whiskers\n",
            "Meow!\n"
          ]
        }
      ]
    }
  ]
}