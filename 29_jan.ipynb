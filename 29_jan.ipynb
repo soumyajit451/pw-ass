{
  "nbformat": 4,
  "nbformat_minor": 0,
  "metadata": {
    "colab": {
      "provenance": []
    },
    "kernelspec": {
      "name": "python3",
      "display_name": "Python 3"
    },
    "language_info": {
      "name": "python"
    }
  },
  "cells": [
    {
      "cell_type": "markdown",
      "source": [
        "#  Who developed the Python programming language?"
      ],
      "metadata": {
        "id": "THKaRYhyU47R"
      }
    },
    {
      "cell_type": "code",
      "source": [
        "# Guido van Rossum"
      ],
      "metadata": {
        "id": "PPbM3VUbVFwO"
      },
      "execution_count": null,
      "outputs": []
    },
    {
      "cell_type": "markdown",
      "source": [
        "# Which type of Programming does Python support?"
      ],
      "metadata": {
        "id": "wXfKrS5GVG7_"
      }
    },
    {
      "cell_type": "code",
      "source": [
        "# Python supports multiple programming paradigms, including procedural, object-oriented, and functional programming."
      ],
      "metadata": {
        "id": "6gOsYdZHVYkt"
      },
      "execution_count": null,
      "outputs": []
    },
    {
      "cell_type": "markdown",
      "source": [
        "# Is Python case sensitive when dealing with identifiers?"
      ],
      "metadata": {
        "id": "wo6SxInjVHGK"
      }
    },
    {
      "cell_type": "code",
      "source": [
        "# Yes, Python is case sensitive."
      ],
      "metadata": {
        "id": "YWt1RpzDVZW1"
      },
      "execution_count": null,
      "outputs": []
    },
    {
      "cell_type": "markdown",
      "source": [
        "# What is the correct extension of the Python file?"
      ],
      "metadata": {
        "id": "LI-zcTJFVHPi"
      }
    },
    {
      "cell_type": "code",
      "source": [
        "# .py"
      ],
      "metadata": {
        "id": "d6zKcSCLVaPf"
      },
      "execution_count": null,
      "outputs": []
    },
    {
      "cell_type": "markdown",
      "source": [
        "# Is Python code compiled or interpreted?"
      ],
      "metadata": {
        "id": "bPcRz65JVHXK"
      }
    },
    {
      "cell_type": "code",
      "source": [
        "# Python code is interpreted."
      ],
      "metadata": {
        "id": "QjN8WDjQVjsg"
      },
      "execution_count": null,
      "outputs": []
    },
    {
      "cell_type": "markdown",
      "source": [
        "# Name a few blocks of code used to define in Python language?"
      ],
      "metadata": {
        "id": "cUHvFV2wVHex"
      }
    },
    {
      "cell_type": "code",
      "source": [
        "# Function: def\n",
        "# Class: class\n",
        "# Conditional statement: if, elif, else\n",
        "# Loop: for, while"
      ],
      "metadata": {
        "id": "8BaLP3daVgFX"
      },
      "execution_count": null,
      "outputs": []
    },
    {
      "cell_type": "markdown",
      "source": [
        "# State a character used to give single-line comments in Python?"
      ],
      "metadata": {
        "id": "kpKzPssTVpd4"
      }
    },
    {
      "cell_type": "code",
      "source": [
        "#"
      ],
      "metadata": {
        "id": "-gU8u8bwVps6"
      },
      "execution_count": null,
      "outputs": []
    },
    {
      "cell_type": "markdown",
      "source": [
        "# Mention functions which can help us to find the version of Python that we are currently working on?"
      ],
      "metadata": {
        "id": "CxabVgr5VqBZ"
      }
    },
    {
      "cell_type": "code",
      "source": [
        "python --version\n",
        "python -V\n",
        "sys.version (within a script using the sys module)"
      ],
      "metadata": {
        "id": "ok-tpBn5VqOE"
      },
      "execution_count": null,
      "outputs": []
    },
    {
      "cell_type": "markdown",
      "source": [
        "# Python supports the creation of anonymous functions at runtime, using a construct called ___________"
      ],
      "metadata": {
        "id": "mWii_B0TVrJ6"
      }
    },
    {
      "cell_type": "code",
      "source": [
        "# lambda"
      ],
      "metadata": {
        "id": "EClHo5AaVrWV"
      },
      "execution_count": null,
      "outputs": []
    },
    {
      "cell_type": "markdown",
      "source": [
        "# What does pip stand for in Python?"
      ],
      "metadata": {
        "id": "9SfmSVnEVrnK"
      }
    },
    {
      "cell_type": "code",
      "source": [
        "# Pip Installs Packages"
      ],
      "metadata": {
        "id": "ggzhkbxsVryH"
      },
      "execution_count": null,
      "outputs": []
    },
    {
      "cell_type": "markdown",
      "source": [
        "# Mention a few built-in functions in Python?"
      ],
      "metadata": {
        "id": "JlGRUGEIXwP9"
      }
    },
    {
      "cell_type": "code",
      "source": [
        "# print(), len(), type(), range(), int(), str(), sum(), min(), max()"
      ],
      "metadata": {
        "id": "ySI18O3IXwgt"
      },
      "execution_count": null,
      "outputs": []
    },
    {
      "cell_type": "markdown",
      "source": [
        "# What is the maximum possible length of an identifier in Python?"
      ],
      "metadata": {
        "id": "oB1qffYnXw2y"
      }
    },
    {
      "cell_type": "code",
      "source": [
        "# There is no explicit limit on the length of an identifier in Python; it can be as long as you need, within the memory constraints of the system."
      ],
      "metadata": {
        "id": "bgqwxcDOXxGr"
      },
      "execution_count": null,
      "outputs": []
    },
    {
      "cell_type": "markdown",
      "source": [
        "# What are the benefits of using Python?"
      ],
      "metadata": {
        "id": "8C2ANihIXxTo"
      }
    },
    {
      "cell_type": "code",
      "source": [
        "# Easy to read and write syntax\n",
        "# Extensive standard library\n",
        "# Large community and ecosystem\n",
        "# Versatile and supports multiple paradigms\n",
        "# Great for prototyping and rapid development"
      ],
      "metadata": {
        "id": "gzIoMKiaXxhg"
      },
      "execution_count": null,
      "outputs": []
    },
    {
      "cell_type": "markdown",
      "source": [
        "# How is memory managed in Python?"
      ],
      "metadata": {
        "id": "4ds_BIu7Xxut"
      }
    },
    {
      "cell_type": "code",
      "source": [
        "#Python uses automatic memory management, which includes garbage collection for recycling unused memory.\n",
        "# Memory management is handled by Python’s built-in memory manager and the garbage collector."
      ],
      "metadata": {
        "id": "fwF9jfXYXx9z"
      },
      "execution_count": null,
      "outputs": []
    },
    {
      "cell_type": "markdown",
      "source": [
        "# How to install Python on Windows and set path variables?"
      ],
      "metadata": {
        "id": "0IzhlOx7XyLM"
      }
    },
    {
      "cell_type": "code",
      "source": [
        "# Download the Python installer from the official Python website.\n",
        "# Run the installer and check the box that says \"Add Python to PATH.\"\n",
        "# Follow the installation steps.\n",
        "# erify the installation by running python --version in the command prompt."
      ],
      "metadata": {
        "id": "OTq3OWR4XyZ-"
      },
      "execution_count": null,
      "outputs": []
    },
    {
      "cell_type": "markdown",
      "source": [
        "# Is indentation required in Python?"
      ],
      "metadata": {
        "id": "VaerbhRhXynR"
      }
    },
    {
      "cell_type": "code",
      "source": [
        "# Yes, indentation is required in Python.\n",
        "# It is used to define the block of code for loops, functions, classes, etc. Indentation improves readability and structure of the code."
      ],
      "metadata": {
        "id": "Gc4eVt7LXy24"
      },
      "execution_count": null,
      "outputs": []
    }
  ]
}